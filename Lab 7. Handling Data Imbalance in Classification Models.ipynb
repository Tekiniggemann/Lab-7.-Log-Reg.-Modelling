{
 "cells": [
  {
   "cell_type": "code",
   "execution_count": 1,
   "id": "e5f8db06",
   "metadata": {},
   "outputs": [],
   "source": [
    "import pandas as pd\n",
    "import numpy as np\n",
    "import statsmodels.api as sm\n",
    "from sklearn.model_selection import train_test_split\n",
    "from sklearn.linear_model import LogisticRegression\n",
    "from sklearn.preprocessing import StandardScaler\n",
    "from sklearn.preprocessing import MinMaxScaler"
   ]
  },
  {
   "cell_type": "code",
   "execution_count": 2,
   "id": "53a16f40",
   "metadata": {},
   "outputs": [
    {
     "data": {
      "text/html": [
       "<div>\n",
       "<style scoped>\n",
       "    .dataframe tbody tr th:only-of-type {\n",
       "        vertical-align: middle;\n",
       "    }\n",
       "\n",
       "    .dataframe tbody tr th {\n",
       "        vertical-align: top;\n",
       "    }\n",
       "\n",
       "    .dataframe thead th {\n",
       "        text-align: right;\n",
       "    }\n",
       "</style>\n",
       "<table border=\"1\" class=\"dataframe\">\n",
       "  <thead>\n",
       "    <tr style=\"text-align: right;\">\n",
       "      <th></th>\n",
       "      <th>gender</th>\n",
       "      <th>SeniorCitizen</th>\n",
       "      <th>Partner</th>\n",
       "      <th>Dependents</th>\n",
       "      <th>tenure</th>\n",
       "      <th>PhoneService</th>\n",
       "      <th>OnlineSecurity</th>\n",
       "      <th>OnlineBackup</th>\n",
       "      <th>DeviceProtection</th>\n",
       "      <th>TechSupport</th>\n",
       "      <th>StreamingTV</th>\n",
       "      <th>StreamingMovies</th>\n",
       "      <th>Contract</th>\n",
       "      <th>MonthlyCharges</th>\n",
       "      <th>TotalCharges</th>\n",
       "      <th>Churn</th>\n",
       "    </tr>\n",
       "  </thead>\n",
       "  <tbody>\n",
       "    <tr>\n",
       "      <th>0</th>\n",
       "      <td>Female</td>\n",
       "      <td>0</td>\n",
       "      <td>Yes</td>\n",
       "      <td>No</td>\n",
       "      <td>1</td>\n",
       "      <td>No</td>\n",
       "      <td>No</td>\n",
       "      <td>Yes</td>\n",
       "      <td>No</td>\n",
       "      <td>No</td>\n",
       "      <td>No</td>\n",
       "      <td>No</td>\n",
       "      <td>Month-to-month</td>\n",
       "      <td>29.85</td>\n",
       "      <td>29.85</td>\n",
       "      <td>No</td>\n",
       "    </tr>\n",
       "    <tr>\n",
       "      <th>1</th>\n",
       "      <td>Male</td>\n",
       "      <td>0</td>\n",
       "      <td>No</td>\n",
       "      <td>No</td>\n",
       "      <td>34</td>\n",
       "      <td>Yes</td>\n",
       "      <td>Yes</td>\n",
       "      <td>No</td>\n",
       "      <td>Yes</td>\n",
       "      <td>No</td>\n",
       "      <td>No</td>\n",
       "      <td>No</td>\n",
       "      <td>One year</td>\n",
       "      <td>56.95</td>\n",
       "      <td>1889.5</td>\n",
       "      <td>No</td>\n",
       "    </tr>\n",
       "    <tr>\n",
       "      <th>2</th>\n",
       "      <td>Male</td>\n",
       "      <td>0</td>\n",
       "      <td>No</td>\n",
       "      <td>No</td>\n",
       "      <td>2</td>\n",
       "      <td>Yes</td>\n",
       "      <td>Yes</td>\n",
       "      <td>Yes</td>\n",
       "      <td>No</td>\n",
       "      <td>No</td>\n",
       "      <td>No</td>\n",
       "      <td>No</td>\n",
       "      <td>Month-to-month</td>\n",
       "      <td>53.85</td>\n",
       "      <td>108.15</td>\n",
       "      <td>Yes</td>\n",
       "    </tr>\n",
       "    <tr>\n",
       "      <th>3</th>\n",
       "      <td>Male</td>\n",
       "      <td>0</td>\n",
       "      <td>No</td>\n",
       "      <td>No</td>\n",
       "      <td>45</td>\n",
       "      <td>No</td>\n",
       "      <td>Yes</td>\n",
       "      <td>No</td>\n",
       "      <td>Yes</td>\n",
       "      <td>Yes</td>\n",
       "      <td>No</td>\n",
       "      <td>No</td>\n",
       "      <td>One year</td>\n",
       "      <td>42.30</td>\n",
       "      <td>1840.75</td>\n",
       "      <td>No</td>\n",
       "    </tr>\n",
       "    <tr>\n",
       "      <th>4</th>\n",
       "      <td>Female</td>\n",
       "      <td>0</td>\n",
       "      <td>No</td>\n",
       "      <td>No</td>\n",
       "      <td>2</td>\n",
       "      <td>Yes</td>\n",
       "      <td>No</td>\n",
       "      <td>No</td>\n",
       "      <td>No</td>\n",
       "      <td>No</td>\n",
       "      <td>No</td>\n",
       "      <td>No</td>\n",
       "      <td>Month-to-month</td>\n",
       "      <td>70.70</td>\n",
       "      <td>151.65</td>\n",
       "      <td>Yes</td>\n",
       "    </tr>\n",
       "    <tr>\n",
       "      <th>...</th>\n",
       "      <td>...</td>\n",
       "      <td>...</td>\n",
       "      <td>...</td>\n",
       "      <td>...</td>\n",
       "      <td>...</td>\n",
       "      <td>...</td>\n",
       "      <td>...</td>\n",
       "      <td>...</td>\n",
       "      <td>...</td>\n",
       "      <td>...</td>\n",
       "      <td>...</td>\n",
       "      <td>...</td>\n",
       "      <td>...</td>\n",
       "      <td>...</td>\n",
       "      <td>...</td>\n",
       "      <td>...</td>\n",
       "    </tr>\n",
       "    <tr>\n",
       "      <th>7038</th>\n",
       "      <td>Male</td>\n",
       "      <td>0</td>\n",
       "      <td>Yes</td>\n",
       "      <td>Yes</td>\n",
       "      <td>24</td>\n",
       "      <td>Yes</td>\n",
       "      <td>Yes</td>\n",
       "      <td>No</td>\n",
       "      <td>Yes</td>\n",
       "      <td>Yes</td>\n",
       "      <td>Yes</td>\n",
       "      <td>Yes</td>\n",
       "      <td>One year</td>\n",
       "      <td>84.80</td>\n",
       "      <td>1990.5</td>\n",
       "      <td>No</td>\n",
       "    </tr>\n",
       "    <tr>\n",
       "      <th>7039</th>\n",
       "      <td>Female</td>\n",
       "      <td>0</td>\n",
       "      <td>Yes</td>\n",
       "      <td>Yes</td>\n",
       "      <td>72</td>\n",
       "      <td>Yes</td>\n",
       "      <td>No</td>\n",
       "      <td>Yes</td>\n",
       "      <td>Yes</td>\n",
       "      <td>No</td>\n",
       "      <td>Yes</td>\n",
       "      <td>Yes</td>\n",
       "      <td>One year</td>\n",
       "      <td>103.20</td>\n",
       "      <td>7362.9</td>\n",
       "      <td>No</td>\n",
       "    </tr>\n",
       "    <tr>\n",
       "      <th>7040</th>\n",
       "      <td>Female</td>\n",
       "      <td>0</td>\n",
       "      <td>Yes</td>\n",
       "      <td>Yes</td>\n",
       "      <td>11</td>\n",
       "      <td>No</td>\n",
       "      <td>Yes</td>\n",
       "      <td>No</td>\n",
       "      <td>No</td>\n",
       "      <td>No</td>\n",
       "      <td>No</td>\n",
       "      <td>No</td>\n",
       "      <td>Month-to-month</td>\n",
       "      <td>29.60</td>\n",
       "      <td>346.45</td>\n",
       "      <td>No</td>\n",
       "    </tr>\n",
       "    <tr>\n",
       "      <th>7041</th>\n",
       "      <td>Male</td>\n",
       "      <td>1</td>\n",
       "      <td>Yes</td>\n",
       "      <td>No</td>\n",
       "      <td>4</td>\n",
       "      <td>Yes</td>\n",
       "      <td>No</td>\n",
       "      <td>No</td>\n",
       "      <td>No</td>\n",
       "      <td>No</td>\n",
       "      <td>No</td>\n",
       "      <td>No</td>\n",
       "      <td>Month-to-month</td>\n",
       "      <td>74.40</td>\n",
       "      <td>306.6</td>\n",
       "      <td>Yes</td>\n",
       "    </tr>\n",
       "    <tr>\n",
       "      <th>7042</th>\n",
       "      <td>Male</td>\n",
       "      <td>0</td>\n",
       "      <td>No</td>\n",
       "      <td>No</td>\n",
       "      <td>66</td>\n",
       "      <td>Yes</td>\n",
       "      <td>Yes</td>\n",
       "      <td>No</td>\n",
       "      <td>Yes</td>\n",
       "      <td>Yes</td>\n",
       "      <td>Yes</td>\n",
       "      <td>Yes</td>\n",
       "      <td>Two year</td>\n",
       "      <td>105.65</td>\n",
       "      <td>6844.5</td>\n",
       "      <td>No</td>\n",
       "    </tr>\n",
       "  </tbody>\n",
       "</table>\n",
       "<p>7043 rows × 16 columns</p>\n",
       "</div>"
      ],
      "text/plain": [
       "      gender  SeniorCitizen Partner Dependents  tenure PhoneService  \\\n",
       "0     Female              0     Yes         No       1           No   \n",
       "1       Male              0      No         No      34          Yes   \n",
       "2       Male              0      No         No       2          Yes   \n",
       "3       Male              0      No         No      45           No   \n",
       "4     Female              0      No         No       2          Yes   \n",
       "...      ...            ...     ...        ...     ...          ...   \n",
       "7038    Male              0     Yes        Yes      24          Yes   \n",
       "7039  Female              0     Yes        Yes      72          Yes   \n",
       "7040  Female              0     Yes        Yes      11           No   \n",
       "7041    Male              1     Yes         No       4          Yes   \n",
       "7042    Male              0      No         No      66          Yes   \n",
       "\n",
       "     OnlineSecurity OnlineBackup DeviceProtection TechSupport StreamingTV  \\\n",
       "0                No          Yes               No          No          No   \n",
       "1               Yes           No              Yes          No          No   \n",
       "2               Yes          Yes               No          No          No   \n",
       "3               Yes           No              Yes         Yes          No   \n",
       "4                No           No               No          No          No   \n",
       "...             ...          ...              ...         ...         ...   \n",
       "7038            Yes           No              Yes         Yes         Yes   \n",
       "7039             No          Yes              Yes          No         Yes   \n",
       "7040            Yes           No               No          No          No   \n",
       "7041             No           No               No          No          No   \n",
       "7042            Yes           No              Yes         Yes         Yes   \n",
       "\n",
       "     StreamingMovies        Contract  MonthlyCharges TotalCharges Churn  \n",
       "0                 No  Month-to-month           29.85        29.85    No  \n",
       "1                 No        One year           56.95       1889.5    No  \n",
       "2                 No  Month-to-month           53.85       108.15   Yes  \n",
       "3                 No        One year           42.30      1840.75    No  \n",
       "4                 No  Month-to-month           70.70       151.65   Yes  \n",
       "...              ...             ...             ...          ...   ...  \n",
       "7038             Yes        One year           84.80       1990.5    No  \n",
       "7039             Yes        One year          103.20       7362.9    No  \n",
       "7040              No  Month-to-month           29.60       346.45    No  \n",
       "7041              No  Month-to-month           74.40        306.6   Yes  \n",
       "7042             Yes        Two year          105.65       6844.5    No  \n",
       "\n",
       "[7043 rows x 16 columns]"
      ]
     },
     "execution_count": 2,
     "metadata": {},
     "output_type": "execute_result"
    }
   ],
   "source": [
    "churndata = pd.read_csv('Customer-Churn.csv')\n",
    "churndata"
   ]
  },
  {
   "cell_type": "code",
   "execution_count": 3,
   "id": "12a77b7e",
   "metadata": {},
   "outputs": [
    {
     "data": {
      "text/plain": [
       "No     5174\n",
       "Yes    1869\n",
       "Name: Churn, dtype: int64"
      ]
     },
     "execution_count": 3,
     "metadata": {},
     "output_type": "execute_result"
    }
   ],
   "source": [
    "churndata.Churn.value_counts()"
   ]
  },
  {
   "cell_type": "code",
   "execution_count": 4,
   "id": "4875268f",
   "metadata": {},
   "outputs": [
    {
     "name": "stdout",
     "output_type": "stream",
     "text": [
      "<class 'pandas.core.frame.DataFrame'>\n",
      "RangeIndex: 7043 entries, 0 to 7042\n",
      "Data columns (total 16 columns):\n",
      " #   Column            Non-Null Count  Dtype  \n",
      "---  ------            --------------  -----  \n",
      " 0   gender            7043 non-null   object \n",
      " 1   SeniorCitizen     7043 non-null   int64  \n",
      " 2   Partner           7043 non-null   object \n",
      " 3   Dependents        7043 non-null   object \n",
      " 4   tenure            7043 non-null   int64  \n",
      " 5   PhoneService      7043 non-null   object \n",
      " 6   OnlineSecurity    7043 non-null   object \n",
      " 7   OnlineBackup      7043 non-null   object \n",
      " 8   DeviceProtection  7043 non-null   object \n",
      " 9   TechSupport       7043 non-null   object \n",
      " 10  StreamingTV       7043 non-null   object \n",
      " 11  StreamingMovies   7043 non-null   object \n",
      " 12  Contract          7043 non-null   object \n",
      " 13  MonthlyCharges    7043 non-null   float64\n",
      " 14  TotalCharges      7043 non-null   object \n",
      " 15  Churn             7043 non-null   object \n",
      "dtypes: float64(1), int64(2), object(13)\n",
      "memory usage: 880.5+ KB\n"
     ]
    }
   ],
   "source": [
    "churndata.info()"
   ]
  },
  {
   "cell_type": "code",
   "execution_count": 5,
   "id": "81d9e9c2",
   "metadata": {},
   "outputs": [
    {
     "data": {
      "text/html": [
       "<div>\n",
       "<style scoped>\n",
       "    .dataframe tbody tr th:only-of-type {\n",
       "        vertical-align: middle;\n",
       "    }\n",
       "\n",
       "    .dataframe tbody tr th {\n",
       "        vertical-align: top;\n",
       "    }\n",
       "\n",
       "    .dataframe thead th {\n",
       "        text-align: right;\n",
       "    }\n",
       "</style>\n",
       "<table border=\"1\" class=\"dataframe\">\n",
       "  <thead>\n",
       "    <tr style=\"text-align: right;\">\n",
       "      <th></th>\n",
       "      <th>TotalCharges</th>\n",
       "    </tr>\n",
       "  </thead>\n",
       "  <tbody>\n",
       "    <tr>\n",
       "      <th>0</th>\n",
       "      <td>29.85</td>\n",
       "    </tr>\n",
       "    <tr>\n",
       "      <th>1</th>\n",
       "      <td>1889.50</td>\n",
       "    </tr>\n",
       "    <tr>\n",
       "      <th>2</th>\n",
       "      <td>108.15</td>\n",
       "    </tr>\n",
       "    <tr>\n",
       "      <th>3</th>\n",
       "      <td>1840.75</td>\n",
       "    </tr>\n",
       "    <tr>\n",
       "      <th>4</th>\n",
       "      <td>151.65</td>\n",
       "    </tr>\n",
       "    <tr>\n",
       "      <th>...</th>\n",
       "      <td>...</td>\n",
       "    </tr>\n",
       "    <tr>\n",
       "      <th>7038</th>\n",
       "      <td>1990.50</td>\n",
       "    </tr>\n",
       "    <tr>\n",
       "      <th>7039</th>\n",
       "      <td>7362.90</td>\n",
       "    </tr>\n",
       "    <tr>\n",
       "      <th>7040</th>\n",
       "      <td>346.45</td>\n",
       "    </tr>\n",
       "    <tr>\n",
       "      <th>7041</th>\n",
       "      <td>306.60</td>\n",
       "    </tr>\n",
       "    <tr>\n",
       "      <th>7042</th>\n",
       "      <td>6844.50</td>\n",
       "    </tr>\n",
       "  </tbody>\n",
       "</table>\n",
       "<p>7043 rows × 1 columns</p>\n",
       "</div>"
      ],
      "text/plain": [
       "      TotalCharges\n",
       "0            29.85\n",
       "1          1889.50\n",
       "2           108.15\n",
       "3          1840.75\n",
       "4           151.65\n",
       "...            ...\n",
       "7038       1990.50\n",
       "7039       7362.90\n",
       "7040        346.45\n",
       "7041        306.60\n",
       "7042       6844.50\n",
       "\n",
       "[7043 rows x 1 columns]"
      ]
     },
     "execution_count": 5,
     "metadata": {},
     "output_type": "execute_result"
    }
   ],
   "source": [
    "#correcting the dtype of the column : Total_charge\n",
    "\n",
    "churndata[\"TotalCharges\"] = pd.to_numeric(churndata[\"TotalCharges\"], errors='coerce')\n",
    "churndata[[\"TotalCharges\"]]"
   ]
  },
  {
   "cell_type": "code",
   "execution_count": 6,
   "id": "47eba47f",
   "metadata": {},
   "outputs": [
    {
     "data": {
      "text/plain": [
       "(7043, 16)"
      ]
     },
     "execution_count": 6,
     "metadata": {},
     "output_type": "execute_result"
    }
   ],
   "source": [
    "churndata.shape"
   ]
  },
  {
   "cell_type": "code",
   "execution_count": 7,
   "id": "261daeef",
   "metadata": {},
   "outputs": [
    {
     "data": {
      "text/plain": [
       "gender              0.000000\n",
       "SeniorCitizen       0.000000\n",
       "Partner             0.000000\n",
       "Dependents          0.000000\n",
       "tenure              0.000000\n",
       "PhoneService        0.000000\n",
       "OnlineSecurity      0.000000\n",
       "OnlineBackup        0.000000\n",
       "DeviceProtection    0.000000\n",
       "TechSupport         0.000000\n",
       "StreamingTV         0.000000\n",
       "StreamingMovies     0.000000\n",
       "Contract            0.000000\n",
       "MonthlyCharges      0.000000\n",
       "TotalCharges        0.001562\n",
       "Churn               0.000000\n",
       "dtype: float64"
      ]
     },
     "execution_count": 7,
     "metadata": {},
     "output_type": "execute_result"
    }
   ],
   "source": [
    "# Checking the nan values.. \n",
    "\n",
    "churndata.isnull().sum()/len(churndata)"
   ]
  },
  {
   "cell_type": "code",
   "execution_count": 8,
   "id": "165f2c26",
   "metadata": {},
   "outputs": [],
   "source": [
    "churndata[\"TotalCharges\"] = churndata[\"TotalCharges\"].fillna(churndata[\"TotalCharges\"].mean())"
   ]
  },
  {
   "cell_type": "code",
   "execution_count": 9,
   "id": "a21b3556",
   "metadata": {},
   "outputs": [
    {
     "data": {
      "text/plain": [
       "(7043, 16)"
      ]
     },
     "execution_count": 9,
     "metadata": {},
     "output_type": "execute_result"
    }
   ],
   "source": [
    "churndata.shape"
   ]
  },
  {
   "cell_type": "code",
   "execution_count": 10,
   "id": "34343aab",
   "metadata": {},
   "outputs": [],
   "source": [
    "churndata[\"Churn\"] = churndata[\"Churn\"].replace({'No':0, 'Yes':1})"
   ]
  },
  {
   "cell_type": "code",
   "execution_count": 11,
   "id": "c171dee8",
   "metadata": {
    "scrolled": true
   },
   "outputs": [
    {
     "data": {
      "text/html": [
       "<div>\n",
       "<style scoped>\n",
       "    .dataframe tbody tr th:only-of-type {\n",
       "        vertical-align: middle;\n",
       "    }\n",
       "\n",
       "    .dataframe tbody tr th {\n",
       "        vertical-align: top;\n",
       "    }\n",
       "\n",
       "    .dataframe thead th {\n",
       "        text-align: right;\n",
       "    }\n",
       "</style>\n",
       "<table border=\"1\" class=\"dataframe\">\n",
       "  <thead>\n",
       "    <tr style=\"text-align: right;\">\n",
       "      <th></th>\n",
       "      <th>SeniorCitizen</th>\n",
       "      <th>tenure</th>\n",
       "      <th>MonthlyCharges</th>\n",
       "      <th>TotalCharges</th>\n",
       "      <th>Churn</th>\n",
       "    </tr>\n",
       "  </thead>\n",
       "  <tbody>\n",
       "    <tr>\n",
       "      <th>0</th>\n",
       "      <td>0</td>\n",
       "      <td>1</td>\n",
       "      <td>29.85</td>\n",
       "      <td>29.85</td>\n",
       "      <td>0</td>\n",
       "    </tr>\n",
       "    <tr>\n",
       "      <th>1</th>\n",
       "      <td>0</td>\n",
       "      <td>34</td>\n",
       "      <td>56.95</td>\n",
       "      <td>1889.50</td>\n",
       "      <td>0</td>\n",
       "    </tr>\n",
       "    <tr>\n",
       "      <th>2</th>\n",
       "      <td>0</td>\n",
       "      <td>2</td>\n",
       "      <td>53.85</td>\n",
       "      <td>108.15</td>\n",
       "      <td>1</td>\n",
       "    </tr>\n",
       "    <tr>\n",
       "      <th>3</th>\n",
       "      <td>0</td>\n",
       "      <td>45</td>\n",
       "      <td>42.30</td>\n",
       "      <td>1840.75</td>\n",
       "      <td>0</td>\n",
       "    </tr>\n",
       "    <tr>\n",
       "      <th>4</th>\n",
       "      <td>0</td>\n",
       "      <td>2</td>\n",
       "      <td>70.70</td>\n",
       "      <td>151.65</td>\n",
       "      <td>1</td>\n",
       "    </tr>\n",
       "    <tr>\n",
       "      <th>...</th>\n",
       "      <td>...</td>\n",
       "      <td>...</td>\n",
       "      <td>...</td>\n",
       "      <td>...</td>\n",
       "      <td>...</td>\n",
       "    </tr>\n",
       "    <tr>\n",
       "      <th>7038</th>\n",
       "      <td>0</td>\n",
       "      <td>24</td>\n",
       "      <td>84.80</td>\n",
       "      <td>1990.50</td>\n",
       "      <td>0</td>\n",
       "    </tr>\n",
       "    <tr>\n",
       "      <th>7039</th>\n",
       "      <td>0</td>\n",
       "      <td>72</td>\n",
       "      <td>103.20</td>\n",
       "      <td>7362.90</td>\n",
       "      <td>0</td>\n",
       "    </tr>\n",
       "    <tr>\n",
       "      <th>7040</th>\n",
       "      <td>0</td>\n",
       "      <td>11</td>\n",
       "      <td>29.60</td>\n",
       "      <td>346.45</td>\n",
       "      <td>0</td>\n",
       "    </tr>\n",
       "    <tr>\n",
       "      <th>7041</th>\n",
       "      <td>1</td>\n",
       "      <td>4</td>\n",
       "      <td>74.40</td>\n",
       "      <td>306.60</td>\n",
       "      <td>1</td>\n",
       "    </tr>\n",
       "    <tr>\n",
       "      <th>7042</th>\n",
       "      <td>0</td>\n",
       "      <td>66</td>\n",
       "      <td>105.65</td>\n",
       "      <td>6844.50</td>\n",
       "      <td>0</td>\n",
       "    </tr>\n",
       "  </tbody>\n",
       "</table>\n",
       "<p>7043 rows × 5 columns</p>\n",
       "</div>"
      ],
      "text/plain": [
       "      SeniorCitizen  tenure  MonthlyCharges  TotalCharges  Churn\n",
       "0                 0       1           29.85         29.85      0\n",
       "1                 0      34           56.95       1889.50      0\n",
       "2                 0       2           53.85        108.15      1\n",
       "3                 0      45           42.30       1840.75      0\n",
       "4                 0       2           70.70        151.65      1\n",
       "...             ...     ...             ...           ...    ...\n",
       "7038              0      24           84.80       1990.50      0\n",
       "7039              0      72          103.20       7362.90      0\n",
       "7040              0      11           29.60        346.45      0\n",
       "7041              1       4           74.40        306.60      1\n",
       "7042              0      66          105.65       6844.50      0\n",
       "\n",
       "[7043 rows x 5 columns]"
      ]
     },
     "execution_count": 11,
     "metadata": {},
     "output_type": "execute_result"
    }
   ],
   "source": [
    "# features: tenure, SeniorCitizen, MonthlyCharges and TotalCharges:\n",
    "\n",
    "numerical = churndata.select_dtypes(\"number\")\n",
    "numerical"
   ]
  },
  {
   "cell_type": "code",
   "execution_count": 12,
   "id": "7d0466e2",
   "metadata": {},
   "outputs": [],
   "source": [
    "# X,y Split\n",
    "\n",
    "y = numerical['Churn']\n",
    "X = numerical.drop(['Churn'], axis=1)\n",
    "\n",
    "X_train, X_test, y_train, y_test = train_test_split(X, y, test_size=0.2, random_state=42)"
   ]
  },
  {
   "cell_type": "code",
   "execution_count": 13,
   "id": "fe018243",
   "metadata": {},
   "outputs": [],
   "source": [
    "# Scaling data\n",
    "transformer = MinMaxScaler().fit(X_train) # need to keep transformer\n",
    "X_train_normalized = transformer.transform(X_train)\n",
    "X_train_norm = pd.DataFrame(X_train_normalized, columns=X_train.columns)"
   ]
  },
  {
   "cell_type": "code",
   "execution_count": 14,
   "id": "13141f05",
   "metadata": {},
   "outputs": [],
   "source": [
    "transformer2 = MinMaxScaler().fit(X_test) \n",
    "X_test_normalized = transformer2.transform(X_test)\n",
    "X_test_norm = pd.DataFrame(X_test_normalized, columns=X_test.columns)"
   ]
  },
  {
   "cell_type": "code",
   "execution_count": 43,
   "id": "681d4064",
   "metadata": {},
   "outputs": [
    {
     "data": {
      "text/html": [
       "<div>\n",
       "<style scoped>\n",
       "    .dataframe tbody tr th:only-of-type {\n",
       "        vertical-align: middle;\n",
       "    }\n",
       "\n",
       "    .dataframe tbody tr th {\n",
       "        vertical-align: top;\n",
       "    }\n",
       "\n",
       "    .dataframe thead th {\n",
       "        text-align: right;\n",
       "    }\n",
       "</style>\n",
       "<table border=\"1\" class=\"dataframe\">\n",
       "  <thead>\n",
       "    <tr style=\"text-align: right;\">\n",
       "      <th></th>\n",
       "      <th>SeniorCitizen</th>\n",
       "      <th>tenure</th>\n",
       "      <th>MonthlyCharges</th>\n",
       "      <th>TotalCharges</th>\n",
       "    </tr>\n",
       "  </thead>\n",
       "  <tbody>\n",
       "    <tr>\n",
       "      <th>0</th>\n",
       "      <td>0.0</td>\n",
       "      <td>0.013889</td>\n",
       "      <td>0.060970</td>\n",
       "      <td>0.000682</td>\n",
       "    </tr>\n",
       "    <tr>\n",
       "      <th>1</th>\n",
       "      <td>0.0</td>\n",
       "      <td>0.569444</td>\n",
       "      <td>0.065467</td>\n",
       "      <td>0.112965</td>\n",
       "    </tr>\n",
       "    <tr>\n",
       "      <th>2</th>\n",
       "      <td>0.0</td>\n",
       "      <td>0.722222</td>\n",
       "      <td>0.006497</td>\n",
       "      <td>0.117039</td>\n",
       "    </tr>\n",
       "    <tr>\n",
       "      <th>3</th>\n",
       "      <td>0.0</td>\n",
       "      <td>0.013889</td>\n",
       "      <td>0.576212</td>\n",
       "      <td>0.006639</td>\n",
       "    </tr>\n",
       "    <tr>\n",
       "      <th>4</th>\n",
       "      <td>0.0</td>\n",
       "      <td>0.930556</td>\n",
       "      <td>0.318341</td>\n",
       "      <td>0.374551</td>\n",
       "    </tr>\n",
       "  </tbody>\n",
       "</table>\n",
       "</div>"
      ],
      "text/plain": [
       "   SeniorCitizen    tenure  MonthlyCharges  TotalCharges\n",
       "0            0.0  0.013889        0.060970      0.000682\n",
       "1            0.0  0.569444        0.065467      0.112965\n",
       "2            0.0  0.722222        0.006497      0.117039\n",
       "3            0.0  0.013889        0.576212      0.006639\n",
       "4            0.0  0.930556        0.318341      0.374551"
      ]
     },
     "execution_count": 43,
     "metadata": {},
     "output_type": "execute_result"
    }
   ],
   "source": [
    "X_test_norm.head()"
   ]
  },
  {
   "cell_type": "code",
   "execution_count": 15,
   "id": "45ffdf4a",
   "metadata": {},
   "outputs": [],
   "source": [
    "y_train = y_train.reset_index(drop=True)\n",
    "y_test = y_test.reset_index(drop=True) "
   ]
  },
  {
   "cell_type": "code",
   "execution_count": 16,
   "id": "627ef78d",
   "metadata": {},
   "outputs": [],
   "source": [
    "LR = LogisticRegression(random_state=0, solver='lbfgs').fit(X_train_norm, y_train)"
   ]
  },
  {
   "cell_type": "code",
   "execution_count": 17,
   "id": "58626af8",
   "metadata": {},
   "outputs": [
    {
     "data": {
      "text/plain": [
       "0.8041163946061036"
      ]
     },
     "execution_count": 17,
     "metadata": {},
     "output_type": "execute_result"
    }
   ],
   "source": [
    "LR.score(X_test_norm, y_test)"
   ]
  },
  {
   "cell_type": "code",
   "execution_count": 18,
   "id": "2d960934",
   "metadata": {},
   "outputs": [
    {
     "name": "stdout",
     "output_type": "stream",
     "text": [
      "precision:  0.6947791164658634\n",
      "recall:  0.46380697050938335\n",
      "f1:  0.5562700964630225\n"
     ]
    }
   ],
   "source": [
    "from sklearn.metrics import precision_score\n",
    "from sklearn.metrics import recall_score\n",
    "from sklearn.metrics import f1_score\n",
    "\n",
    "pred = LR.predict(X_test_norm)\n",
    "\n",
    "print(\"precision: \",precision_score(y_test,pred))\n",
    "print(\"recall: \",recall_score(y_test,pred))\n",
    "print(\"f1: \",f1_score(y_test,pred))"
   ]
  },
  {
   "cell_type": "code",
   "execution_count": 19,
   "id": "86ef72ad",
   "metadata": {},
   "outputs": [
    {
     "data": {
      "text/plain": [
       "array([[960,  76],\n",
       "       [200, 173]], dtype=int64)"
      ]
     },
     "execution_count": 19,
     "metadata": {},
     "output_type": "execute_result"
    }
   ],
   "source": [
    "from sklearn.metrics import confusion_matrix\n",
    "confusion_matrix(y_test,pred)"
   ]
  },
  {
   "cell_type": "markdown",
   "id": "ef61ad71",
   "metadata": {},
   "source": [
    "# Oversampling\n"
   ]
  },
  {
   "cell_type": "code",
   "execution_count": 20,
   "id": "7040c7ad",
   "metadata": {},
   "outputs": [],
   "source": [
    "from sklearn.utils import resample"
   ]
  },
  {
   "cell_type": "code",
   "execution_count": 21,
   "id": "5a4f9840",
   "metadata": {},
   "outputs": [
    {
     "data": {
      "text/html": [
       "<div>\n",
       "<style scoped>\n",
       "    .dataframe tbody tr th:only-of-type {\n",
       "        vertical-align: middle;\n",
       "    }\n",
       "\n",
       "    .dataframe tbody tr th {\n",
       "        vertical-align: top;\n",
       "    }\n",
       "\n",
       "    .dataframe thead th {\n",
       "        text-align: right;\n",
       "    }\n",
       "</style>\n",
       "<table border=\"1\" class=\"dataframe\">\n",
       "  <thead>\n",
       "    <tr style=\"text-align: right;\">\n",
       "      <th></th>\n",
       "      <th>SeniorCitizen</th>\n",
       "      <th>tenure</th>\n",
       "      <th>MonthlyCharges</th>\n",
       "      <th>TotalCharges</th>\n",
       "      <th>Churn</th>\n",
       "    </tr>\n",
       "  </thead>\n",
       "  <tbody>\n",
       "    <tr>\n",
       "      <th>0</th>\n",
       "      <td>0.0</td>\n",
       "      <td>0.291667</td>\n",
       "      <td>0.464375</td>\n",
       "      <td>0.152089</td>\n",
       "      <td>0</td>\n",
       "    </tr>\n",
       "    <tr>\n",
       "      <th>1</th>\n",
       "      <td>0.0</td>\n",
       "      <td>0.750000</td>\n",
       "      <td>0.786746</td>\n",
       "      <td>0.589736</td>\n",
       "      <td>0</td>\n",
       "    </tr>\n",
       "    <tr>\n",
       "      <th>2</th>\n",
       "      <td>0.0</td>\n",
       "      <td>0.013889</td>\n",
       "      <td>0.051819</td>\n",
       "      <td>0.000537</td>\n",
       "      <td>1</td>\n",
       "    </tr>\n",
       "    <tr>\n",
       "      <th>3</th>\n",
       "      <td>0.0</td>\n",
       "      <td>0.055556</td>\n",
       "      <td>0.517688</td>\n",
       "      <td>0.025288</td>\n",
       "      <td>1</td>\n",
       "    </tr>\n",
       "    <tr>\n",
       "      <th>4</th>\n",
       "      <td>0.0</td>\n",
       "      <td>0.000000</td>\n",
       "      <td>0.434978</td>\n",
       "      <td>0.261309</td>\n",
       "      <td>0</td>\n",
       "    </tr>\n",
       "  </tbody>\n",
       "</table>\n",
       "</div>"
      ],
      "text/plain": [
       "   SeniorCitizen    tenure  MonthlyCharges  TotalCharges  Churn\n",
       "0            0.0  0.291667        0.464375      0.152089      0\n",
       "1            0.0  0.750000        0.786746      0.589736      0\n",
       "2            0.0  0.013889        0.051819      0.000537      1\n",
       "3            0.0  0.055556        0.517688      0.025288      1\n",
       "4            0.0  0.000000        0.434978      0.261309      0"
      ]
     },
     "execution_count": 21,
     "metadata": {},
     "output_type": "execute_result"
    }
   ],
   "source": [
    "train = pd.concat([X_train_norm, y_train],axis=1)\n",
    "train.head()"
   ]
  },
  {
   "cell_type": "code",
   "execution_count": 22,
   "id": "9f36c6e3",
   "metadata": {},
   "outputs": [],
   "source": [
    "no_churn = train[train['Churn']==0]\n",
    "yes_churn = train[train['Churn']==1]"
   ]
  },
  {
   "cell_type": "code",
   "execution_count": 23,
   "id": "e22fd007",
   "metadata": {},
   "outputs": [
    {
     "data": {
      "text/plain": [
       "(4138, 5)"
      ]
     },
     "metadata": {},
     "output_type": "display_data"
    },
    {
     "data": {
      "text/plain": [
       "(1496, 5)"
      ]
     },
     "metadata": {},
     "output_type": "display_data"
    }
   ],
   "source": [
    "display(no_churn.shape)\n",
    "display(yes_churn.shape)"
   ]
  },
  {
   "cell_type": "code",
   "execution_count": 24,
   "id": "24045658",
   "metadata": {},
   "outputs": [],
   "source": [
    "yes_churn_oversampled = resample(yes_churn,\n",
    "                                    replace=True,\n",
    "                                    n_samples = len(no_churn),\n",
    "                                    random_state=0)"
   ]
  },
  {
   "cell_type": "code",
   "execution_count": 25,
   "id": "cc411755",
   "metadata": {},
   "outputs": [
    {
     "data": {
      "text/plain": [
       "(4138, 5)"
      ]
     },
     "metadata": {},
     "output_type": "display_data"
    },
    {
     "data": {
      "text/plain": [
       "(4138, 5)"
      ]
     },
     "metadata": {},
     "output_type": "display_data"
    }
   ],
   "source": [
    "display(no_churn.shape)\n",
    "display(yes_churn_oversampled.shape)"
   ]
  },
  {
   "cell_type": "code",
   "execution_count": 26,
   "id": "7fe7eb77",
   "metadata": {},
   "outputs": [
    {
     "data": {
      "text/html": [
       "<div>\n",
       "<style scoped>\n",
       "    .dataframe tbody tr th:only-of-type {\n",
       "        vertical-align: middle;\n",
       "    }\n",
       "\n",
       "    .dataframe tbody tr th {\n",
       "        vertical-align: top;\n",
       "    }\n",
       "\n",
       "    .dataframe thead th {\n",
       "        text-align: right;\n",
       "    }\n",
       "</style>\n",
       "<table border=\"1\" class=\"dataframe\">\n",
       "  <thead>\n",
       "    <tr style=\"text-align: right;\">\n",
       "      <th></th>\n",
       "      <th>SeniorCitizen</th>\n",
       "      <th>tenure</th>\n",
       "      <th>MonthlyCharges</th>\n",
       "      <th>TotalCharges</th>\n",
       "      <th>Churn</th>\n",
       "    </tr>\n",
       "  </thead>\n",
       "  <tbody>\n",
       "    <tr>\n",
       "      <th>54</th>\n",
       "      <td>0.0</td>\n",
       "      <td>0.375000</td>\n",
       "      <td>0.760339</td>\n",
       "      <td>0.312232</td>\n",
       "      <td>1</td>\n",
       "    </tr>\n",
       "    <tr>\n",
       "      <th>1364</th>\n",
       "      <td>1.0</td>\n",
       "      <td>0.055556</td>\n",
       "      <td>0.564524</td>\n",
       "      <td>0.034958</td>\n",
       "      <td>1</td>\n",
       "    </tr>\n",
       "    <tr>\n",
       "      <th>4912</th>\n",
       "      <td>0.0</td>\n",
       "      <td>0.166667</td>\n",
       "      <td>0.811659</td>\n",
       "      <td>0.140740</td>\n",
       "      <td>1</td>\n",
       "    </tr>\n",
       "    <tr>\n",
       "      <th>4765</th>\n",
       "      <td>1.0</td>\n",
       "      <td>0.291667</td>\n",
       "      <td>0.782760</td>\n",
       "      <td>0.232114</td>\n",
       "      <td>1</td>\n",
       "    </tr>\n",
       "    <tr>\n",
       "      <th>1522</th>\n",
       "      <td>0.0</td>\n",
       "      <td>0.111111</td>\n",
       "      <td>0.848032</td>\n",
       "      <td>0.095604</td>\n",
       "      <td>1</td>\n",
       "    </tr>\n",
       "  </tbody>\n",
       "</table>\n",
       "</div>"
      ],
      "text/plain": [
       "      SeniorCitizen    tenure  MonthlyCharges  TotalCharges  Churn\n",
       "54              0.0  0.375000        0.760339      0.312232      1\n",
       "1364            1.0  0.055556        0.564524      0.034958      1\n",
       "4912            0.0  0.166667        0.811659      0.140740      1\n",
       "4765            1.0  0.291667        0.782760      0.232114      1\n",
       "1522            0.0  0.111111        0.848032      0.095604      1"
      ]
     },
     "execution_count": 26,
     "metadata": {},
     "output_type": "execute_result"
    }
   ],
   "source": [
    "train_oversampled = pd.concat([no_churn,yes_churn_oversampled],axis=0)\n",
    "train_oversampled.tail()"
   ]
  },
  {
   "cell_type": "code",
   "execution_count": 27,
   "id": "bf08d86c",
   "metadata": {},
   "outputs": [],
   "source": [
    "y_train_over = train_oversampled['Churn'].copy()\n",
    "X_train_over = train_oversampled.drop('Churn',axis = 1).copy()"
   ]
  },
  {
   "cell_type": "code",
   "execution_count": 28,
   "id": "229bc3ca",
   "metadata": {},
   "outputs": [
    {
     "name": "stdout",
     "output_type": "stream",
     "text": [
      "Accuracy is  0.7437899219304471\n",
      "precision:  0.5107913669064749\n",
      "recall:  0.7613941018766756\n",
      "f1:  0.6114101184068891\n"
     ]
    }
   ],
   "source": [
    "LR = LogisticRegression(max_iter=1000)\n",
    "LR.fit(X_train_over, y_train_over)\n",
    "pred1 = LR.predict(X_test_norm)\n",
    "print('Accuracy is ', LR.score(X_test_norm, y_test))\n",
    "print(\"precision: \",precision_score(y_test,pred1))\n",
    "print(\"recall: \",recall_score(y_test,pred1))\n",
    "print(\"f1: \",f1_score(y_test,pred1))"
   ]
  },
  {
   "cell_type": "code",
   "execution_count": 29,
   "id": "9dd04aa8",
   "metadata": {},
   "outputs": [
    {
     "data": {
      "text/plain": [
       "array([[764, 272],\n",
       "       [ 89, 284]], dtype=int64)"
      ]
     },
     "execution_count": 29,
     "metadata": {},
     "output_type": "execute_result"
    }
   ],
   "source": [
    "from sklearn.metrics import confusion_matrix\n",
    "confusion_matrix(y_test,pred1)"
   ]
  },
  {
   "cell_type": "markdown",
   "id": "7e4ee348",
   "metadata": {},
   "source": [
    "# Undersampling"
   ]
  },
  {
   "cell_type": "code",
   "execution_count": 30,
   "id": "f2eb88f5",
   "metadata": {},
   "outputs": [],
   "source": [
    "no_churn_undersampled = resample(no_churn,\n",
    "                                    replace=False,\n",
    "                                    n_samples = len(yes_churn),\n",
    "                                    random_state=0)"
   ]
  },
  {
   "cell_type": "code",
   "execution_count": 31,
   "id": "cf097213",
   "metadata": {},
   "outputs": [
    {
     "data": {
      "text/plain": [
       "(1496, 5)"
      ]
     },
     "metadata": {},
     "output_type": "display_data"
    },
    {
     "data": {
      "text/plain": [
       "(1496, 5)"
      ]
     },
     "metadata": {},
     "output_type": "display_data"
    }
   ],
   "source": [
    "display(no_churn_undersampled.shape)\n",
    "display(yes_churn.shape)"
   ]
  },
  {
   "cell_type": "code",
   "execution_count": 32,
   "id": "dbbb1bf8",
   "metadata": {},
   "outputs": [
    {
     "data": {
      "text/html": [
       "<div>\n",
       "<style scoped>\n",
       "    .dataframe tbody tr th:only-of-type {\n",
       "        vertical-align: middle;\n",
       "    }\n",
       "\n",
       "    .dataframe tbody tr th {\n",
       "        vertical-align: top;\n",
       "    }\n",
       "\n",
       "    .dataframe thead th {\n",
       "        text-align: right;\n",
       "    }\n",
       "</style>\n",
       "<table border=\"1\" class=\"dataframe\">\n",
       "  <thead>\n",
       "    <tr style=\"text-align: right;\">\n",
       "      <th></th>\n",
       "      <th>SeniorCitizen</th>\n",
       "      <th>tenure</th>\n",
       "      <th>MonthlyCharges</th>\n",
       "      <th>TotalCharges</th>\n",
       "      <th>Churn</th>\n",
       "    </tr>\n",
       "  </thead>\n",
       "  <tbody>\n",
       "    <tr>\n",
       "      <th>2</th>\n",
       "      <td>0.0</td>\n",
       "      <td>0.013889</td>\n",
       "      <td>0.051819</td>\n",
       "      <td>0.000537</td>\n",
       "      <td>1</td>\n",
       "    </tr>\n",
       "    <tr>\n",
       "      <th>3</th>\n",
       "      <td>0.0</td>\n",
       "      <td>0.055556</td>\n",
       "      <td>0.517688</td>\n",
       "      <td>0.025288</td>\n",
       "      <td>1</td>\n",
       "    </tr>\n",
       "    <tr>\n",
       "      <th>8</th>\n",
       "      <td>0.0</td>\n",
       "      <td>0.263889</td>\n",
       "      <td>0.213254</td>\n",
       "      <td>0.082454</td>\n",
       "      <td>1</td>\n",
       "    </tr>\n",
       "    <tr>\n",
       "      <th>10</th>\n",
       "      <td>1.0</td>\n",
       "      <td>0.291667</td>\n",
       "      <td>0.506726</td>\n",
       "      <td>0.168007</td>\n",
       "      <td>1</td>\n",
       "    </tr>\n",
       "    <tr>\n",
       "      <th>26</th>\n",
       "      <td>1.0</td>\n",
       "      <td>0.111111</td>\n",
       "      <td>0.735924</td>\n",
       "      <td>0.082062</td>\n",
       "      <td>1</td>\n",
       "    </tr>\n",
       "  </tbody>\n",
       "</table>\n",
       "</div>"
      ],
      "text/plain": [
       "    SeniorCitizen    tenure  MonthlyCharges  TotalCharges  Churn\n",
       "2             0.0  0.013889        0.051819      0.000537      1\n",
       "3             0.0  0.055556        0.517688      0.025288      1\n",
       "8             0.0  0.263889        0.213254      0.082454      1\n",
       "10            1.0  0.291667        0.506726      0.168007      1\n",
       "26            1.0  0.111111        0.735924      0.082062      1"
      ]
     },
     "execution_count": 32,
     "metadata": {},
     "output_type": "execute_result"
    }
   ],
   "source": [
    "train_undersampled = pd.concat([yes_churn,no_churn_undersampled])\n",
    "train_undersampled.head()"
   ]
  },
  {
   "cell_type": "code",
   "execution_count": 33,
   "id": "7eb36979",
   "metadata": {},
   "outputs": [],
   "source": [
    "y_train_under = train_undersampled['Churn'].copy()\n",
    "X_train_under = train_undersampled.drop('Churn',axis = 1).copy()"
   ]
  },
  {
   "cell_type": "code",
   "execution_count": 34,
   "id": "d8aaf101",
   "metadata": {},
   "outputs": [
    {
     "name": "stdout",
     "output_type": "stream",
     "text": [
      "Accuracy is  0.7437899219304471\n",
      "precision:  0.5107142857142857\n",
      "recall:  0.7667560321715817\n",
      "f1:  0.6130760986066451\n"
     ]
    }
   ],
   "source": [
    "LR = LogisticRegression(max_iter=1000)\n",
    "LR.fit(X_train_under, y_train_under)\n",
    "pred2 = LR.predict(X_test_norm)\n",
    "print('Accuracy is ', LR.score(X_test_norm, y_test))\n",
    "print(\"precision: \",precision_score(y_test,pred2))\n",
    "print(\"recall: \",recall_score(y_test,pred2))\n",
    "print(\"f1: \",f1_score(y_test,pred2))"
   ]
  },
  {
   "cell_type": "code",
   "execution_count": 35,
   "id": "96500888",
   "metadata": {},
   "outputs": [
    {
     "data": {
      "text/plain": [
       "array([[762, 274],\n",
       "       [ 87, 286]], dtype=int64)"
      ]
     },
     "execution_count": 35,
     "metadata": {},
     "output_type": "execute_result"
    }
   ],
   "source": [
    "confusion_matrix(y_test,pred2)"
   ]
  },
  {
   "cell_type": "markdown",
   "id": "4b980e6b",
   "metadata": {},
   "source": [
    "# SMOTE"
   ]
  },
  {
   "cell_type": "code",
   "execution_count": 39,
   "id": "d05e4ee4",
   "metadata": {},
   "outputs": [],
   "source": [
    "from imblearn.over_sampling import SMOTE\n",
    "\n",
    "sm = SMOTE(random_state=100,k_neighbors=3)\n",
    "X_train_SMOTE,y_train_SMOTE = sm.fit_resample(X_train, y_train)"
   ]
  },
  {
   "cell_type": "code",
   "execution_count": 40,
   "id": "ea467c4e",
   "metadata": {},
   "outputs": [
    {
     "data": {
      "text/plain": [
       "(8276, 4)"
      ]
     },
     "execution_count": 40,
     "metadata": {},
     "output_type": "execute_result"
    }
   ],
   "source": [
    "X_train_SMOTE.shape"
   ]
  },
  {
   "cell_type": "code",
   "execution_count": 42,
   "id": "30d058a4",
   "metadata": {},
   "outputs": [
    {
     "name": "stdout",
     "output_type": "stream",
     "text": [
      "Accuracy is  0.7352732434350603\n",
      "precision:  0.26931407942238267\n",
      "recall:  1.0\n",
      "f1:  0.42434584755403865\n"
     ]
    },
    {
     "data": {
      "text/plain": [
       "array([[  24, 1012],\n",
       "       [   0,  373]], dtype=int64)"
      ]
     },
     "execution_count": 42,
     "metadata": {},
     "output_type": "execute_result"
    }
   ],
   "source": [
    "LR_smote = LogisticRegression(max_iter=1000)\n",
    "LR_smote.fit(X_train_SMOTE, y_train_SMOTE)\n",
    "pred3 = LR.predict(X_test)\n",
    "\n",
    "print('Accuracy is ', LR_smote.score(X_test_norm, y_test))\n",
    "print(\"precision: \",precision_score(y_test,pred3))\n",
    "print(\"recall: \",recall_score(y_test,pred3))\n",
    "print(\"f1: \",f1_score(y_test,pred3))\n",
    "\n",
    "confusion_matrix(y_test,pred3)"
   ]
  },
  {
   "cell_type": "code",
   "execution_count": null,
   "id": "8ceb254d",
   "metadata": {},
   "outputs": [],
   "source": []
  }
 ],
 "metadata": {
  "kernelspec": {
   "display_name": "Python 3",
   "language": "python",
   "name": "python3"
  },
  "language_info": {
   "codemirror_mode": {
    "name": "ipython",
    "version": 3
   },
   "file_extension": ".py",
   "mimetype": "text/x-python",
   "name": "python",
   "nbconvert_exporter": "python",
   "pygments_lexer": "ipython3",
   "version": "3.8.8"
  }
 },
 "nbformat": 4,
 "nbformat_minor": 5
}
